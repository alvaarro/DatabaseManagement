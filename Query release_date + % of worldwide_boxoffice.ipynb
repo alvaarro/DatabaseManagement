{
 "cells": [
  {
   "cell_type": "code",
   "execution_count": 5,
   "metadata": {},
   "outputs": [
    {
     "name": "stdout",
     "output_type": "stream",
     "text": [
      "Connection success.\n",
      "   release_date  total_boxoffice  box_office_percentage\n",
      "0          Week     0.000000e+00               0.000000\n",
      "1        Summer     0.000000e+00               0.000000\n",
      "2        Spring     0.000000e+00               0.000000\n",
      "3     September     9.976741e+09               6.114237\n",
      "4       October     1.087826e+10               6.666730\n",
      "5      November     1.954717e+10              11.979469\n",
      "6     not known     0.000000e+00               0.000000\n",
      "7           May     1.678760e+10              10.288266\n",
      "8         March     1.365344e+10               8.367500\n",
      "9          June     1.669948e+10              10.234263\n",
      "10         July     1.651146e+10              10.119037\n",
      "11      January     6.270436e+09               3.842832\n",
      "Connection closed.\n"
     ]
    },
    {
     "name": "stderr",
     "output_type": "stream",
     "text": [
      "C:\\Users\\leath\\AppData\\Local\\Temp\\ipykernel_15676\\98656397.py:16: UserWarning: pandas only supports SQLAlchemy connectable (engine/connection) or database string URI or sqlite3 DBAPI2 connection. Other DBAPI2 objects are not tested. Please consider using SQLAlchemy.\n",
      "  dfRelPer = pd.read_sql(\"\"\"SELECT release_date,\n"
     ]
    }
   ],
   "source": [
    "import psycopg2\n",
    "import pandas as pd\n",
    "\n",
    "# Define a function to connect to the database\n",
    "def connectDB():\n",
    "     conn = psycopg2.connect(\n",
    "        dbname = \"Movie Industry Database\",\n",
    "        user = \"postgres\",\n",
    "        password = \"Quickborn123\",\n",
    "        host = \"localhost\",\n",
    "        port = \"5432\")\n",
    "     return conn \n",
    "\n",
    "# Query to select the total box office per release date (month) as a percentage \n",
    "def getsuccrelper(conn):\n",
    "    dfRelPer = pd.read_sql(\"\"\"SELECT rel_date,\n",
    "                            SUM(worldwide_box_office) AS total_box_office,\n",
    "                            SUM(worldwide_box_office) / (SELECT SUM(worldwide_box_office) FROM movies) * 100 AS box_office_percentage\n",
    "                            FROM movies\n",
    "                            GROUP BY rel_date\n",
    "                            ORDER BY rel_date DESC LIMIT(12);\"\"\", conn)\n",
    "    return dfRelPer\n",
    "\n",
    "# Call the function to connect to the database\n",
    "conn = connectDB()\n",
    "print(\"Connection success.\")\n",
    "\n",
    "# Get query result\n",
    "dfRel = getsuccrelper(conn)\n",
    "print(dfRel)\n",
    "\n",
    "# Close connection\n",
    "conn.close()\n",
    "print(\"Connection closed.\")\n",
    "\n"
   ]
  }
 ],
 "metadata": {
  "kernelspec": {
   "display_name": "base",
   "language": "python",
   "name": "python3"
  },
  "language_info": {
   "codemirror_mode": {
    "name": "ipython",
    "version": 3
   },
   "file_extension": ".py",
   "mimetype": "text/x-python",
   "name": "python",
   "nbconvert_exporter": "python",
   "pygments_lexer": "ipython3",
   "version": "3.11.4"
  },
  "orig_nbformat": 4
 },
 "nbformat": 4,
 "nbformat_minor": 2
}
