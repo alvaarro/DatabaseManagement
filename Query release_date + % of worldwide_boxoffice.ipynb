{
 "cells": [
  {
   "cell_type": "code",
   "execution_count": null,
   "metadata": {},
   "outputs": [],
   "source": [
    "# Define a function to connect to database\n",
    "def connectDB():\n",
    "     conn = psycopg2.connect(\n",
    "        dbname = \"Movie Industry Database\",\n",
    "        user = \"postgres\",\n",
    "        password = \"Quickborn123\",\n",
    "        host = \"localhost\",\n",
    "        port = \"5432\")\n",
    "     return conn \n",
    "\n",
    "# Query to select the total box office per release date (month) as percentage \n",
    "def getsuccrelper(conn):\n",
    "    dfRelPer = pd.read_sql(\"\"\"SELECT rel_date,\n",
    "                            SUM(worldwide_box_office) AS total_box_office,\n",
    "                            SUM(worldwide_box_office) / (SELECT SUM(worldwide_box_office) FROM movies) * 100 AS box_office_percentage\n",
    "                            FROM movies\n",
    "                            GROUP BY rel_date\n",
    "                            ORDER BY rel_date DESC LIMIT(12);\"\"\", conn)\n",
    "    return dfRelPer\n",
    "\n",
    "# call the function to connect to database\n",
    "conn = connectDB()\n",
    "print(\"Connection success.\")\n",
    "\n",
    "# get back query result\n",
    "dfRel = getsuccrelper(conn)\n",
    "print(dfRelPer)\n",
    "\n",
    "# Close connection\n",
    "conn.close()\n",
    "\n",
    "print(\"Connection closed.\")\n"
   ]
  }
 ],
 "metadata": {
  "language_info": {
   "name": "python"
  },
  "orig_nbformat": 4
 },
 "nbformat": 4,
 "nbformat_minor": 2
}
