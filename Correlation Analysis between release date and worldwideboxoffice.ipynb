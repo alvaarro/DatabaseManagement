{
 "cells": [
  {
   "cell_type": "code",
   "execution_count": null,
   "metadata": {},
   "outputs": [],
   "source": [
    "# Correlation Analysis between release date and worldwideboxoffice\n",
    "import psycopg2\n",
    "import pandas as pd\n",
    "import matplotlib.pyplot as plt\n",
    "import numpy as np\n",
    "import seaborn as sns\n",
    "\n",
    "# Define a function to connect to the database\n",
    "def connectDB():\n",
    "    conn = psycopg2.connect(\n",
    "        dbname=\"Movie Industry Database\",\n",
    "        user=\"postgres\",\n",
    "        password=\"Quickborn123\",\n",
    "        host=\"localhost\",\n",
    "        port=\"5432\")\n",
    "    return conn\n",
    "\n",
    "# Query to select release_date and worldwide_box_office\n",
    "def get_data(conn):\n",
    "    df = pd.read_sql(\"\"\"SELECT rel_date, worldwide_box_office\n",
    "                        FROM movies\"\"\", conn)\n",
    "    return df\n",
    "\n",
    "# Call the function to connect to the database\n",
    "conn = connectDB()\n",
    "print(\"Connection success.\")\n",
    "\n",
    "# Get data\n",
    "df = get_data(conn)\n",
    "print(df)\n",
    "\n",
    "# Close connection\n",
    "conn.close()\n",
    "print(\"Connection closed.\")\n",
    "\n",
    "# Perform correlation analysis\n",
    "correlation = df.corr()\n",
    "\n",
    "# Create a heatmap to visualize the correlation\n",
    "plt.figure(figsize=(8, 6))\n",
    "sns.heatmap(correlation, annot=True, cmap=\"coolwarm\", linewidths=.5)\n",
    "plt.title(\"Correlation Heatmap between Release Date and Worldwide Box Office\")\n",
    "plt.show()\n"
   ]
  }
 ],
 "metadata": {
  "language_info": {
   "name": "python"
  },
  "orig_nbformat": 4
 },
 "nbformat": 4,
 "nbformat_minor": 2
}
