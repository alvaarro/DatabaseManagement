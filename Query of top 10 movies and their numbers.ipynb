{
 "cells": [
  {
   "cell_type": "code",
   "execution_count": 1,
   "metadata": {},
   "outputs": [],
   "source": [
    "#install required libraries\n",
    "import psycopg2\n",
    "from sqlalchemy import create_engine\n",
    "import pandas as pd  #(optional, for data manipulation)"
   ]
  },
  {
   "cell_type": "code",
   "execution_count": 2,
   "metadata": {},
   "outputs": [],
   "source": [
    "#defining the PostgreSQL database connection parameters\n",
    "db_config = {\n",
    "    'dbname': 'DBM',\n",
    "    'user': 'postgres',\n",
    "    'password': 'xw5dzk6d',\n",
    "    'host': 'localhost',\n",
    "    'port': '5433'}"
   ]
  },
  {
   "cell_type": "code",
   "execution_count": 3,
   "metadata": {},
   "outputs": [],
   "source": [
    "#establishing a connection using psycopg2\n",
    "conn = psycopg2.connect(**db_config)"
   ]
  },
  {
   "cell_type": "code",
   "execution_count": 5,
   "metadata": {},
   "outputs": [],
   "source": [
    "#creating an SQLAlchemy engine using the connection\n",
    "engine = create_engine(f\"postgresql+psycopg2://{db_config['user']}:{db_config['password']}@{db_config['host']}:{db_config['port']}/{db_config['dbname']}\")"
   ]
  },
  {
   "cell_type": "code",
   "execution_count": 6,
   "metadata": {},
   "outputs": [],
   "source": [
    "#formulating the SQL query, here the profit of the top 10 movies is visualised\n",
    "sql_query = \"\"\"SELECT movie_id, movie_title, production_budget, worldwide_box_office, \n",
    "            (worldwide_box_office - production_budget) AS profit,\n",
    "            CASE\n",
    "            WHEN worldwide_box_office > 0 THEN (production_budget / worldwide_box_office) * 100\n",
    "            ELSE 0\n",
    "            END AS percentage_production_cost\n",
    "            FROM\n",
    "                movies\n",
    "            ORDER BY\n",
    "                profit DESC\n",
    "            LIMIT 10; -- Adjust the LIMIT value as needed.\"\"\""
   ]
  },
  {
   "cell_type": "code",
   "execution_count": null,
   "metadata": {},
   "outputs": [],
   "source": [
    "#excecuting the SQL query and fetcing the results\n",
    "result = pd.read_sql(sql_query, conn) "
   ]
  },
  {
   "cell_type": "code",
   "execution_count": null,
   "metadata": {},
   "outputs": [],
   "source": [
    "#printing the results \n",
    "print(result)"
   ]
  },
  {
   "cell_type": "code",
   "execution_count": 9,
   "metadata": {},
   "outputs": [],
   "source": [
    "#closing the database connection\n",
    "conn.close()"
   ]
  }
 ],
 "metadata": {
  "kernelspec": {
   "display_name": "base",
   "language": "python",
   "name": "python3"
  },
  "language_info": {
   "codemirror_mode": {
    "name": "ipython",
    "version": 3
   },
   "file_extension": ".py",
   "mimetype": "text/x-python",
   "name": "python",
   "nbconvert_exporter": "python",
   "pygments_lexer": "ipython3",
   "version": "3.11.4"
  },
  "orig_nbformat": 4
 },
 "nbformat": 4,
 "nbformat_minor": 2
}
