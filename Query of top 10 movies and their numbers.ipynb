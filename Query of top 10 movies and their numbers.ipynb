{
 "cells": [
  {
   "cell_type": "code",
   "execution_count": 1,
   "metadata": {},
   "outputs": [
    {
     "name": "stdout",
     "output_type": "stream",
     "text": [
      "   movie_id                         movie_title  production_budget  \\\n",
      "0     12700                              Avatar        237000000.0   \n",
      "1     27231                    Avengers Endgame        400000000.0   \n",
      "2        71  Star Wars Ep VII The Force Awakens        306000000.0   \n",
      "3      8153               Avengers Infinity War        300000000.0   \n",
      "4     25056               SpiderMan No Way Home        200000000.0   \n",
      "5      8612                      Jurassic World        215000000.0   \n",
      "6     25225                       The Lion King        260000000.0   \n",
      "7     12107                           Furious 7        190000000.0   \n",
      "8     23034                           Frozen II        150000000.0   \n",
      "9     14856                        The Avengers        225000000.0   \n",
      "\n",
      "   worldwide_box_office        profit  percentage_production_cost  \n",
      "0          2.845900e+09  2.608900e+09                    8.327771  \n",
      "1          2.797801e+09  2.397801e+09                   14.296945  \n",
      "2          2.064616e+09  1.758616e+09                   14.821159  \n",
      "3          2.048360e+09  1.748360e+09                   14.645865  \n",
      "4          1.885216e+09  1.685216e+09                   10.608863  \n",
      "5          1.669980e+09  1.454980e+09                   12.874406  \n",
      "6          1.654367e+09  1.394367e+09                   15.715977  \n",
      "7          1.516882e+09  1.326882e+09                   12.525698  \n",
      "8          1.445182e+09  1.295182e+09                   10.379314  \n",
      "9          1.515100e+09  1.290100e+09                   14.850503  \n"
     ]
    },
    {
     "name": "stderr",
     "output_type": "stream",
     "text": [
      "C:\\Users\\memwa\\AppData\\Local\\Temp\\ipykernel_6756\\3564796267.py:33: UserWarning: pandas only supports SQLAlchemy connectable (engine/connection) or database string URI or sqlite3 DBAPI2 connection. Other DBAPI2 objects are not tested. Please consider using SQLAlchemy.\n",
      "  result = pd.read_sql(sql_query, conn)\n"
     ]
    }
   ],
   "source": [
    "#install required libraries\n",
    "import psycopg2\n",
    "from sqlalchemy import create_engine\n",
    "import pandas as pd  #(optional, for data manipulation)\n",
    "\n",
    "#defining the PostgreSQL database connection parameters\n",
    "db_config = {\n",
    "    'dbname': 'DBmovies',\n",
    "    'user': 'postgres',\n",
    "    'password': 'alex2000',\n",
    "    'host': 'localhost',\n",
    "    'port': '5433'}\n",
    "\n",
    "#establishing a connection using psycopg2\n",
    "conn = psycopg2.connect(**db_config)\n",
    "\n",
    "#creating an SQLAlchemy engine using the connection\n",
    "engine = create_engine(f\"postgresql+psycopg2://{db_config['user']}:{db_config['password']}@{db_config['host']}:{db_config['port']}/{db_config['dbname']}\")\n",
    "\n",
    "#formulating the SQL query, here the profit of the top 10 movies is visualised\n",
    "sql_query = \"\"\"SELECT movie_id, movie_title, production_budget, worldwide_box_office, \n",
    "            (worldwide_box_office - production_budget) AS profit,\n",
    "            CASE\n",
    "            WHEN worldwide_box_office > 0 THEN (production_budget / worldwide_box_office) * 100\n",
    "            ELSE 0\n",
    "            END AS percentage_production_cost\n",
    "            FROM\n",
    "                movies\n",
    "            ORDER BY\n",
    "                profit DESC LIMIT (10);\"\"\"\n",
    "\n",
    "#excecuting the SQL query and fetcing the results\n",
    "result = pd.read_sql(sql_query, conn) \n",
    "\n",
    "#printing the results \n",
    "print(result)\n",
    "\n",
    "#closing the database connection\n",
    "conn.close()"
   ]
  }
 ],
 "metadata": {
  "kernelspec": {
   "display_name": "base",
   "language": "python",
   "name": "python3"
  },
  "language_info": {
   "codemirror_mode": {
    "name": "ipython",
    "version": 3
   },
   "file_extension": ".py",
   "mimetype": "text/x-python",
   "name": "python",
   "nbconvert_exporter": "python",
   "pygments_lexer": "ipython3",
   "version": "3.11.4"
  },
  "orig_nbformat": 4
 },
 "nbformat": 4,
 "nbformat_minor": 2
}
