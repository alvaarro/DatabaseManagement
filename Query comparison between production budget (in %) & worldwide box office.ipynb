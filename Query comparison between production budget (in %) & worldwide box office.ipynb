{
 "cells": [
  {
   "cell_type": "code",
   "execution_count": 3,
   "metadata": {},
   "outputs": [
    {
     "name": "stdout",
     "output_type": "stream",
     "text": [
      "       movie_id  production_budget  worldwide_box_office      profit  \\\n",
      "0             1                0.0               76576.0     76576.0   \n",
      "1             2         30000000.0            17865209.0 -12134791.0   \n",
      "2             3                0.0                   0.0         0.0   \n",
      "3             4                0.0                   0.0         0.0   \n",
      "4             5         11000000.0            46060861.0  35060861.0   \n",
      "...         ...                ...                   ...         ...   \n",
      "30607     30608                0.0               12356.0     12356.0   \n",
      "30608     30609                0.0              968849.0    968849.0   \n",
      "30609     30610                0.0              240000.0    240000.0   \n",
      "30610     30611                0.0            17351923.0  17351923.0   \n",
      "30611     30612                0.0            33396899.0  33396899.0   \n",
      "\n",
      "       percentage_production_cost  \n",
      "0                        0.000000  \n",
      "1                      167.924148  \n",
      "2                        0.000000  \n",
      "3                        0.000000  \n",
      "4                       23.881447  \n",
      "...                           ...  \n",
      "30607                    0.000000  \n",
      "30608                    0.000000  \n",
      "30609                    0.000000  \n",
      "30610                    0.000000  \n",
      "30611                    0.000000  \n",
      "\n",
      "[30612 rows x 5 columns]\n"
     ]
    },
    {
     "name": "stderr",
     "output_type": "stream",
     "text": [
      "C:\\Users\\memwa\\AppData\\Local\\Temp\\ipykernel_6544\\1363427346.py:30: UserWarning: pandas only supports SQLAlchemy connectable (engine/connection) or database string URI or sqlite3 DBAPI2 connection. Other DBAPI2 objects are not tested. Please consider using SQLAlchemy.\n",
      "  result = pd.read_sql(sql_query, conn)\n"
     ]
    }
   ],
   "source": [
    "# Install required libraries\n",
    "import psycopg2\n",
    "from sqlalchemy import create_engine\n",
    "import pandas as pd  # Import pandas library\n",
    "\n",
    "# Defining the PostgreSQL database connection parameters\n",
    "db_config = {\n",
    "    'dbname': 'DBmovies',\n",
    "    'user': 'postgres',\n",
    "    'password': 'alex2000',\n",
    "    'host': 'localhost',\n",
    "    'port': '5433'}\n",
    "\n",
    "# Establishing a connection using psycopg2\n",
    "conn = psycopg2.connect(**db_config)\n",
    "\n",
    "# Creating an SQLAlchemy engine using the connection\n",
    "engine = create_engine(f\"postgresql+psycopg2://{db_config['user']}:{db_config['password']}@{db_config['host']}:{db_config['port']}/{db_config['dbname']}\")\n",
    "\n",
    "# Formulating the SQL query, here the profit of the top 10 movies is visualized\n",
    "sql_query = \"\"\"SELECT movie_id, production_budget, worldwide_box_office,\n",
    "            (worldwide_box_office - production_budget) AS profit,\n",
    "            CASE\n",
    "            WHEN worldwide_box_office > 0 THEN (production_budget / worldwide_box_office) * 100\n",
    "            ELSE 0 -- Handle division by zero by setting the percentage to 0 when worldwide_box_office is 0\n",
    "            END AS percentage_production_cost\n",
    "            FROM movies;\"\"\"\n",
    "\n",
    "# Executing the SQL query and fetching the results\n",
    "result = pd.read_sql(sql_query, conn)\n",
    "\n",
    "# Printing the results\n",
    "print(result)\n",
    "\n",
    "# Closing the database connection\n",
    "conn.close()\n"
   ]
  }
 ],
 "metadata": {
  "kernelspec": {
   "display_name": "base",
   "language": "python",
   "name": "python3"
  },
  "language_info": {
   "codemirror_mode": {
    "name": "ipython",
    "version": 3
   },
   "file_extension": ".py",
   "mimetype": "text/x-python",
   "name": "python",
   "nbconvert_exporter": "python",
   "pygments_lexer": "ipython3",
   "version": "3.11.4"
  },
  "orig_nbformat": 4
 },
 "nbformat": 4,
 "nbformat_minor": 2
}
