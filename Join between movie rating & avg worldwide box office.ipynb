{
 "cells": [
  {
   "cell_type": "code",
   "execution_count": 23,
   "metadata": {},
   "outputs": [],
   "source": [
    "#install required libraries\n",
    "import pandas as pd\n",
    "import psycopg2"
   ]
  },
  {
   "cell_type": "code",
   "execution_count": 24,
   "metadata": {},
   "outputs": [],
   "source": [
    "#defining the function to connect to the database in PostgreSQL\n",
    "conn = psycopg2.connect(\n",
    "        dbname = \"DBM\",\n",
    "        user = \"postgres\",\n",
    "        password = \"xw5dzk6d\",\n",
    "        host = \"localhost\",\n",
    "        port = \"5433\")"
   ]
  },
  {
   "cell_type": "code",
   "execution_count": 27,
   "metadata": {},
   "outputs": [],
   "source": [
    "#creating a cursor making sure there is interaction with the database\n",
    "cursor = conn.cursor()"
   ]
  },
  {
   "cell_type": "code",
   "execution_count": 31,
   "metadata": {},
   "outputs": [],
   "source": [
    "#Query for the join between rating of the movie and the average box office sales of the movies\n",
    "sql_query = \"\"\"\n",
    "    SELECT ratings.rating_name, AVG(movies.worldwide_box_office) AS average_worldwide_box_office\n",
    "    FROM ratings\n",
    "    JOIN movierating on movierating.rating_id = ratings.rating_id\n",
    "    JOIN movies on movies.movie_id = movierating.movie_id\n",
    "    GROUP BY ratings.rating_name\n",
    "    ORDER BY average_worldwide_box_office DESC;\"\"\""
   ]
  },
  {
   "cell_type": "code",
   "execution_count": null,
   "metadata": {},
   "outputs": [],
   "source": [
    "#excuting the query\n",
    "cursor.execute(sql_query)"
   ]
  },
  {
   "cell_type": "code",
   "execution_count": null,
   "metadata": {},
   "outputs": [],
   "source": [
    "#fetching all the rows\n",
    "rows = cursor.fetchall()"
   ]
  },
  {
   "cell_type": "code",
   "execution_count": null,
   "metadata": {},
   "outputs": [],
   "source": [
    "#creating the dataframe with column names\n",
    "df = pd.DataFrame(rows, columns=[\"Rating Name\", \"Average Worldwide Box Office\"])"
   ]
  },
  {
   "cell_type": "code",
   "execution_count": null,
   "metadata": {},
   "outputs": [],
   "source": [
    "#making the dataframa visual\n",
    "print(df)"
   ]
  },
  {
   "cell_type": "code",
   "execution_count": 34,
   "metadata": {},
   "outputs": [],
   "source": [
    "#closing the connection & cursor\n",
    "cursor.close()\n",
    "conn.close()"
   ]
  }
 ],
 "metadata": {
  "kernelspec": {
   "display_name": "base",
   "language": "python",
   "name": "python3"
  },
  "language_info": {
   "codemirror_mode": {
    "name": "ipython",
    "version": 3
   },
   "file_extension": ".py",
   "mimetype": "text/x-python",
   "name": "python",
   "nbconvert_exporter": "python",
   "pygments_lexer": "ipython3",
   "version": "3.11.4"
  },
  "orig_nbformat": 4
 },
 "nbformat": 4,
 "nbformat_minor": 2
}
