{
 "cells": [
  {
   "cell_type": "code",
   "execution_count": 2,
   "metadata": {},
   "outputs": [
    {
     "name": "stdout",
     "output_type": "stream",
     "text": [
      "   Rating Name  Average Worldwide Box Office\n",
      "0         TV-G                  3.909169e+08\n",
      "1            G                  1.414622e+08\n",
      "2           PG                  1.328172e+08\n",
      "3        PG-13                  9.190977e+07\n",
      "4        TV-PG                  4.220463e+07\n",
      "5        TV-14                  3.226884e+07\n",
      "6            R                  3.082020e+07\n",
      "7      Unrated                  2.783629e+07\n",
      "8        NC-17                  2.754727e+07\n",
      "9        TV-MA                  6.295526e+06\n",
      "10      PG--13                  3.743188e+06\n",
      "11        Open                  3.275846e+06\n",
      "12   Not Rated                  2.320054e+06\n",
      "13          NR                  1.821420e+06\n",
      "14       MA-17                  1.155873e+06\n",
      "15    Approved                  1.119040e+05\n",
      "16        M/PG                  0.000000e+00\n"
     ]
    }
   ],
   "source": [
    "#install required libraries\n",
    "import pandas as pd\n",
    "import psycopg2\n",
    "\n",
    "#defining the function to connect to the database in PostgreSQL\n",
    "conn = psycopg2.connect(\n",
    "        dbname = \"DBmovies\",\n",
    "        user = \"postgres\",\n",
    "        password = \"alex2000\",\n",
    "        host = \"localhost\",\n",
    "        port = \"5433\")\n",
    "\n",
    "#creating a cursor making sure there is interaction with the database\n",
    "cursor = conn.cursor()\n",
    "\n",
    "#Query for the join between rating of the movie and the average box office sales of the movies\n",
    "sql_query = \"\"\"\n",
    "    SELECT ratings.rating_name, AVG(movies.worldwide_box_office) AS average_worldwide_box_office\n",
    "    FROM ratings\n",
    "    JOIN movierating on movierating.rating_id = ratings.rating_id\n",
    "    JOIN movies on movies.movie_id = movierating.movie_id\n",
    "    GROUP BY ratings.rating_name\n",
    "    ORDER BY average_worldwide_box_office DESC;\"\"\"\n",
    "\n",
    "\n",
    "#excuting the query\n",
    "cursor.execute(sql_query)\n",
    "\n",
    "#fetching all the rows\n",
    "rows = cursor.fetchall()\n",
    "\n",
    "#creating the dataframe with column names\n",
    "df = pd.DataFrame(rows, columns=[\"Rating Name\", \"Average Worldwide Box Office\"])\n",
    "\n",
    "#making the dataframa visual\n",
    "print(df)\n",
    "\n",
    "#closing the connection & cursor\n",
    "cursor.close()\n",
    "conn.close()"
   ]
  }
 ],
 "metadata": {
  "kernelspec": {
   "display_name": "base",
   "language": "python",
   "name": "python3"
  },
  "language_info": {
   "codemirror_mode": {
    "name": "ipython",
    "version": 3
   },
   "file_extension": ".py",
   "mimetype": "text/x-python",
   "name": "python",
   "nbconvert_exporter": "python",
   "pygments_lexer": "ipython3",
   "version": "3.11.4"
  },
  "orig_nbformat": 4
 },
 "nbformat": 4,
 "nbformat_minor": 2
}
