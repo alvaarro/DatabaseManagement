{
 "cells": [
  {
   "cell_type": "code",
   "execution_count": null,
   "metadata": {},
   "outputs": [],
   "source": [
    "import psycopg2\n",
    "import pandas as pd\n",
    "\n",
    "# Define a function to connect to the database\n",
    "def connectDB():\n",
    "    conn = psycopg2.connect(\n",
    "        dbname=\"DBmovies\",\n",
    "        user=\"postgres\",\n",
    "        password=\"alex2000\",\n",
    "        host=\"localhost\",\n",
    "        port=\"5433\")\n",
    "    return conn\n",
    "\n",
    "def getallDir(conn):\n",
    "    dfDir = pd.read_sql(\"\"\"\n",
    "        SELECT actors.actor_name, SUM(worldwide_box_office) AS total_worldwide_box_office\n",
    "        FROM actors\n",
    "        JOIN actedin ON actors.actor_id = actedin.actor_id\n",
    "        JOIN movies ON movies.movie_id = actedin.movie_id\n",
    "        ORDER BY total_worldwide_box_office DESC\n",
    "    \"\"\", conn)\n",
    "    return dfDir\n",
    "\n",
    "# Call the function to connect to the database\n",
    "conn = connectDB()\n",
    "print(\"Connection success.\")\n",
    "\n",
    "# Get all directors with movies' box office\n",
    "dfDir = getallDir(conn)\n",
    "print(dfDir)\n",
    "\n",
    "# Close connection\n",
    "conn.close()\n",
    "print(\"Connection closed.\")\n"
   ]
  }
 ],
 "metadata": {
  "language_info": {
   "name": "python"
  },
  "orig_nbformat": 4
 },
 "nbformat": 4,
 "nbformat_minor": 2
}
