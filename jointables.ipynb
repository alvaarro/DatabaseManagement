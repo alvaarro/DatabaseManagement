{
 "cells": [
  {
   "cell_type": "code",
   "execution_count": 1,
   "metadata": {},
   "outputs": [
    {
     "name": "stdout",
     "output_type": "stream",
     "text": [
      "Connection success.\n",
      "                  actor_name  total_worldwide_box_office\n",
      "0                    Unknown                1.436091e+10\n",
      "1             Dwayne Johnson                6.967288e+09\n",
      "2                 Vin Diesel                5.887766e+09\n",
      "3          Robert Downey Jr.                5.764598e+09\n",
      "4         Scarlett Johansson                5.704360e+09\n",
      "...                      ...                         ...\n",
      "16566       Sorapong Chatree                0.000000e+00\n",
      "16567             Nick Stahl                0.000000e+00\n",
      "16568          AÃ¯ssa MaÃ¯ga                0.000000e+00\n",
      "16569  James DeForest Parker                0.000000e+00\n",
      "16570           Ann Petersen                0.000000e+00\n",
      "\n",
      "[16571 rows x 2 columns]\n",
      "Connection closed.\n"
     ]
    },
    {
     "name": "stderr",
     "output_type": "stream",
     "text": [
      "C:\\Users\\memwa\\AppData\\Local\\Temp\\ipykernel_16272\\231541461.py:15: UserWarning: pandas only supports SQLAlchemy connectable (engine/connection) or database string URI or sqlite3 DBAPI2 connection. Other DBAPI2 objects are not tested. Please consider using SQLAlchemy.\n",
      "  dfDir = pd.read_sql(\"\"\"\n"
     ]
    }
   ],
   "source": [
    "import psycopg2\n",
    "import pandas as pd\n",
    "\n",
    "# Define a function to connect to the database\n",
    "def connectDB():\n",
    "    conn = psycopg2.connect(\n",
    "        dbname=\"DBmovies\",\n",
    "        user=\"postgres\",\n",
    "        password=\"alex2000\",\n",
    "        host=\"localhost\",\n",
    "        port=\"5433\")\n",
    "    return conn\n",
    "\n",
    "def getallDir(conn):\n",
    "    dfDir = pd.read_sql(\"\"\"\n",
    "        SELECT actors.actor_name, SUM(worldwide_box_office) AS total_worldwide_box_office\n",
    "        FROM actors\n",
    "        JOIN actedin ON actors.actor_id = actedin.actor_id\n",
    "        JOIN movies ON movies.movie_id = actedin.movie_id\n",
    "        GROUP BY actors.actor_name\n",
    "        ORDER BY total_worldwide_box_office DESC\n",
    "    \"\"\", conn)\n",
    "    return dfDir\n",
    "\n",
    "# Call the function to connect to the database\n",
    "conn = connectDB()\n",
    "print(\"Connection success.\")\n",
    "\n",
    "# Get all directors with movies' box office\n",
    "dfDir = getallDir(conn)\n",
    "print(dfDir)\n",
    "\n",
    "# Close connection\n",
    "conn.close()\n",
    "print(\"Connection closed.\")\n"
   ]
  }
 ],
 "metadata": {
  "kernelspec": {
   "display_name": "base",
   "language": "python",
   "name": "python3"
  },
  "language_info": {
   "codemirror_mode": {
    "name": "ipython",
    "version": 3
   },
   "file_extension": ".py",
   "mimetype": "text/x-python",
   "name": "python",
   "nbconvert_exporter": "python",
   "pygments_lexer": "ipython3",
   "version": "3.11.4"
  },
  "orig_nbformat": 4
 },
 "nbformat": 4,
 "nbformat_minor": 2
}
