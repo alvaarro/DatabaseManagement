import pandas as pd
import psycopg2

# Define the file paths
file1_path = r'C:\Users\Mike Stein\Downloads\sales.xlsx'
file2_path = r'C:\Users\Mike Stein\Downloads\metaClean43Brightspace.xlsx'

# Read the Excel files into DataFrames
df1 = pd.read_excel(file1_path)
df2 = pd.read_excel(file2_path)

# Define the file paths for CSV files
csv_file1_path = r'C:\Users\Mike Stein\Downloads\sales_cleaned.csv'
csv_file2_path = r'C:\Users\Mike Stein\Downloads\metaClean43Brightspace_cleaned.csv'

# Convert the DataFrames to CSV files
df1.to_csv(csv_file1_path, index=False)
df2.to_csv(csv_file2_path, index=False)

# Drop rows with NaN values from both DataFrames
df1 = df1.dropna()
df2 = df2.dropna()

# Drop duplicates in both DataFrames
df1 = df1.drop_duplicates()
df2 = df2.drop_duplicates()

# Perform an inner join on the "title" column
merged_df = pd.merge(df1, df2, on='title', how='inner')

# Split
df1 = merged_df[['title', 'worldwide_box_office']]
df2 = merged_df[['title', 'movie_cast']]

# Database connection parameters
db_params = {
    'dbname': 'databasemanagement',
    'user': 'postgres',
    'password': '0648396235',
    'host': '127.0.0.1',
    'port': '5433'
}

# Table names in PostgreSQL
table_name1 = 'sales'
table_name2 = 'metaclean'

# Connect to the PostgreSQL database
conn = psycopg2.connect(**db_params)
cursor = conn.cursor()

# Convert the DataFrames to a list of tuples (each tuple represents a row)
data_tuples1 = [tuple(row) for row in df1.to_records(index=False)]
data_tuples2 = [tuple(row) for row in df2.to_records(index=False)]

# Define the SQL queries to insert data into the existing tables
insert_query1 = f"""INSERT INTO {table_name1} (title, worldwide_box_office)
                   VALUES (%s, %s)"""

insert_query2 = f"""INSERT INTO {table_name2} (title, movie_cast)
                   VALUES (%s, %s)
                   ON CONFLICT (title) DO UPDATE
                   SET movie_cast = excluded.movie_cast"""

# Execute the INSERT queries to add data to the tables
cursor.executemany(insert_query1, data_tuples1)
cursor.executemany(insert_query2, data_tuples2)

conn.commit()

print(f"Data from '{csv_file_path1}' added to '{table_name1}' successfully.")
print(f"Data from '{csv_file_path2}' added to '{table_name2}' successfully.")
