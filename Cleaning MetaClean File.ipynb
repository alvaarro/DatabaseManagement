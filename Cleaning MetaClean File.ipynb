{
 "cells": [
  {
   "cell_type": "code",
   "execution_count": 6,
   "metadata": {},
   "outputs": [
    {
     "name": "stdout",
     "output_type": "stream",
     "text": [
      "Requirement already satisfied: pandas in c:\\users\\leath\\anaconda3\\lib\\site-packages (1.5.3)Note: you may need to restart the kernel to use updated packages.\n",
      "\n",
      "Requirement already satisfied: python-dateutil>=2.8.1 in c:\\users\\leath\\appdata\\roaming\\python\\python311\\site-packages (from pandas) (2.8.2)\n",
      "Requirement already satisfied: pytz>=2020.1 in c:\\users\\leath\\anaconda3\\lib\\site-packages (from pandas) (2022.7)\n",
      "Requirement already satisfied: numpy>=1.21.0 in c:\\users\\leath\\anaconda3\\lib\\site-packages (from pandas) (1.24.3)\n",
      "Requirement already satisfied: six>=1.5 in c:\\users\\leath\\appdata\\roaming\\python\\python311\\site-packages (from python-dateutil>=2.8.1->pandas) (1.16.0)\n"
     ]
    }
   ],
   "source": [
    "pip install pandas"
   ]
  },
  {
   "cell_type": "code",
   "execution_count": 8,
   "metadata": {},
   "outputs": [],
   "source": [
    "import pandas as pd\n",
    "\n",
    "# Loading the Excel file into a pandas DataFrame\n",
    "excel_file = r\"c:\\Users\\leath\\Downloads\\metaClean43Brightspace.xlsx\"\n",
    "df = pd.read_excel(excel_file)\n",
    "\n",
    "# Selecting only the desired columns\n",
    "selected_columns = ['title', 'studio', 'rating', 'cast', 'director', 'genre', 'RelDate']  \n",
    "df = df[selected_columns]\n",
    "\n",
    "# Renaming columns\n",
    "column_mapping = {\n",
    "    'title': 'movie_title',\n",
    "    'rating': 'rating_name',\n",
    "    'cast' : 'actor',\n",
    "}\n",
    "df = df.rename(columns=column_mapping)\n",
    "\n",
    "# removing THE \"|\" from the \"rating\" column\n",
    "df['rating_name'] = df['rating_name'].str.lstrip(\"|\") \n",
    "\n",
    "# Removing special characters from some columns and replace them by latin characters\n",
    "df['movie_title'] = df['movie_title'].str.replace('[^a-zA-Z0-9\\s]', '', regex=True)\n",
    "df['studio'] = df['studio'].str.replace('[^a-zA-Z0-9\\s]', '', regex=True)\n",
    "df['actor'] = df['actor'].str.replace('[^a-zA-Z0-9\\s]', '', regex=True)\n",
    "df['director'] = df['director'].str.replace('[^a-zA-Z0-9\\s]', '', regex=True)\n",
    "\n"
   ]
  },
  {
   "cell_type": "code",
   "execution_count": 9,
   "metadata": {},
   "outputs": [
    {
     "data": {
      "text/plain": [
       "movie_title       0\n",
       "studio          350\n",
       "rating_name    1067\n",
       "actor          3702\n",
       "director         14\n",
       "genre            20\n",
       "RelDate           0\n",
       "dtype: int64"
      ]
     },
     "execution_count": 9,
     "metadata": {},
     "output_type": "execute_result"
    }
   ],
   "source": [
    "# Checking for missing values\n",
    "df.isnull().sum()"
   ]
  },
  {
   "cell_type": "code",
   "execution_count": 11,
   "metadata": {},
   "outputs": [
    {
     "name": "stdout",
     "output_type": "stream",
     "text": [
      "CSV file 'c:\\Users\\leath\\Documents\\AUAS\\3. Digital Business Fundamentals\\MetaClean Cleaned.csv' has been created.\n"
     ]
    }
   ],
   "source": [
    "# Filling missing values\n",
    "missing_fill_values = {\n",
    "    'studio': 'Unknown',\n",
    "    'rating_name': 'Not Rated',\n",
    "    'actor': 'Unknown', \n",
    "    'director': 'Unknown',\n",
    "    'genre': 'Unknown',\n",
    "    }\n",
    "df = df.fillna(value=missing_fill_values)\n",
    "\n",
    "# Saving the DataFrame as a CSV file\n",
    "csv_file = r\"c:\\Users\\leath\\Documents\\AUAS\\3. Digital Business Fundamentals\\MetaClean Cleaned.csv\"\n",
    "df.to_csv(csv_file, index=False)\n",
    "\n",
    "print(f\"CSV file '{csv_file}' has been created.\")\n"
   ]
  }
 ],
 "metadata": {
  "kernelspec": {
   "display_name": "Python 3",
   "language": "python",
   "name": "python3"
  },
  "language_info": {
   "codemirror_mode": {
    "name": "ipython",
    "version": 3
   },
   "file_extension": ".py",
   "mimetype": "text/x-python",
   "name": "python",
   "nbconvert_exporter": "python",
   "pygments_lexer": "ipython3",
   "version": "3.11.4"
  },
  "orig_nbformat": 4
 },
 "nbformat": 4,
 "nbformat_minor": 2
}
