{
 "cells": [
  {
   "cell_type": "code",
   "execution_count": 7,
   "metadata": {},
   "outputs": [
    {
     "name": "stdout",
     "output_type": "stream",
     "text": [
      "Requirement already satisfied: psycopg2 in c:\\users\\leath\\anaconda3\\python\\lib\\site-packages (2.9.7)\n",
      "Note: you may need to restart the kernel to use updated packages.\n"
     ]
    }
   ],
   "source": [
    "pip install psycopg2"
   ]
  },
  {
   "cell_type": "code",
   "execution_count": 26,
   "metadata": {},
   "outputs": [
    {
     "name": "stdout",
     "output_type": "stream",
     "text": [
      "Data successfully imported into the PostgreSQL table.\n"
     ]
    }
   ],
   "source": [
    "import psycopg2\n",
    "import csv\n",
    "\n",
    "# PostgreSQL connection information\n",
    "dbname = \"Movie Industry Database\"\n",
    "user = \"postgres\"\n",
    "password = \"Quickborn123\"\n",
    "host = \"localhost\"\n",
    "port = \"5432\"\n",
    "\n",
    "# Path to the CSV file\n",
    "csv_file = r\"c:\\Users\\leath\\Documents\\AUAS\\3. Digital Business Fundamentals\\Sales Clean.csv\"\n",
    "\n",
    "# Name of the table in PostgreSQL where the data will be imported\n",
    "table_name = \"movies\"\n",
    "\n",
    "try:\n",
    "    # Establish a connection to the PostgreSQL database\n",
    "    conn = psycopg2.connect(dbname=dbname, user=user, password=password, host=host, port=port)\n",
    "\n",
    "    # Create a cursor\n",
    "    cursor = conn.cursor()\n",
    "\n",
    "    # Open the CSV file and iterate over rows\n",
    "    with open(csv_file, 'r', newline='', encoding='utf-8') as file:\n",
    "        reader = csv.reader(file)\n",
    "        next(reader)  # Skip the header row if it exists\n",
    "\n",
    "        for row in reader:\n",
    "            # Map the CSV columns to the PostgreSQL columns\n",
    "            movie_id = row[0]\n",
    "            release_date = row[2]\n",
    "            movie_title = row[1]\n",
    "            worldwide_boxoffice = row[4]\n",
    "            production_budget = row[3]\n",
    "            \n",
    "\n",
    "            # Insert the data into the PostgreSQL table\n",
    "            cursor.execute(\n",
    "                f\"INSERT INTO {table_name} (movie_id, release_date, movie_title, worldwide_boxoffice, production_budget) VALUES (%s, %s, %s, %s, %s)\",\n",
    "                (movie_id, movie_title, release_date, worldwide_boxoffice, production_budget)\n",
    "            )\n",
    "\n",
    "    # Commit the transaction\n",
    "    conn.commit()\n",
    "\n",
    "    print(\"Data successfully imported into the PostgreSQL table.\")\n",
    "\n",
    "except (Exception, psycopg2.Error) as error:\n",
    "    print(\"Error importing data into the PostgreSQL table:\", error)\n",
    "\n",
    "finally:\n",
    "    # Close the connection\n",
    "    if conn:\n",
    "        cursor.close()\n",
    "        conn.close()"
   ]
  }
 ],
 "metadata": {
  "kernelspec": {
   "display_name": "base",
   "language": "python",
   "name": "python3"
  },
  "language_info": {
   "codemirror_mode": {
    "name": "ipython",
    "version": 3
   },
   "file_extension": ".py",
   "mimetype": "text/x-python",
   "name": "python",
   "nbconvert_exporter": "python",
   "pygments_lexer": "ipython3",
   "version": "3.11.4"
  },
  "orig_nbformat": 4
 },
 "nbformat": 4,
 "nbformat_minor": 2
}
