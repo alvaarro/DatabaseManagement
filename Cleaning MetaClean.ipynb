{
 "cells": [
  {
   "cell_type": "code",
   "execution_count": 16,
   "metadata": {},
   "outputs": [],
   "source": [
    "#install required libraries\n",
    "import pandas as pd"
   ]
  },
  {
   "cell_type": "code",
   "execution_count": 6,
   "metadata": {},
   "outputs": [],
   "source": [
    "#reading the excel file into the pandas dataframe, defining the file paths\n",
    "excel_file = r\"\\\\Mac\\Home\\Documents\\MDDB\\Database Management\\metaClean43Brightspace.xlsx\"\n",
    "df = pd.read_excel(excel_file)"
   ]
  },
  {
   "cell_type": "code",
   "execution_count": 7,
   "metadata": {},
   "outputs": [],
   "source": [
    "#select only the columns that are being used\n",
    "selected_columns = ['title', 'studio', 'rating', 'cast', 'director', 'genre', 'RelDate']  \n",
    "df = df[selected_columns]"
   ]
  },
  {
   "cell_type": "code",
   "execution_count": 8,
   "metadata": {},
   "outputs": [],
   "source": [
    "#renaming columns the right way\n",
    "column_mapping = {\n",
    "    'title': 'movie_title',\n",
    "    'rating': 'rating_name',\n",
    "    'cast' : 'actor',\n",
    "    'RelDate' : 'release_date'\n",
    "}\n",
    "df = df.rename(columns=column_mapping)"
   ]
  },
  {
   "cell_type": "code",
   "execution_count": 9,
   "metadata": {},
   "outputs": [],
   "source": [
    "#removing unwanted characters from the 'rating_name' column\n",
    "df['rating_name'] = df['rating_name'].str.lstrip(\"|\") "
   ]
  },
  {
   "cell_type": "code",
   "execution_count": 10,
   "metadata": {},
   "outputs": [],
   "source": [
    "#removing special characters from multiple columns and replacing them with Latin characters\n",
    "df['movie_title'] = df['movie_title'].str.replace('[^a-zA-Z0-9\\s]', '', regex=True)\n",
    "df['studio'] = df['studio'].str.replace('[^a-zA-Z0-9\\s]', '', regex=True)\n",
    "df['actor'] = df['actor'].str.replace('[^a-zA-Z0-9\\s]', '', regex=True)\n",
    "df['director'] = df['director'].str.replace('[^a-zA-Z0-9\\s]', '', regex=True)"
   ]
  },
  {
   "cell_type": "code",
   "execution_count": 11,
   "metadata": {},
   "outputs": [
    {
     "data": {
      "text/plain": [
       "movie_title        0\n",
       "studio           350\n",
       "rating_name     1067\n",
       "actor           3702\n",
       "director          14\n",
       "genre             20\n",
       "release_date       0\n",
       "dtype: int64"
      ]
     },
     "execution_count": 11,
     "metadata": {},
     "output_type": "execute_result"
    }
   ],
   "source": [
    "#checking for any missing values\n",
    "df.isnull().sum()"
   ]
  },
  {
   "cell_type": "code",
   "execution_count": 17,
   "metadata": {},
   "outputs": [
    {
     "name": "stdout",
     "output_type": "stream",
     "text": [
      "<class 'pandas.core.frame.DataFrame'>\n",
      "RangeIndex: 11364 entries, 0 to 11363\n",
      "Data columns (total 7 columns):\n",
      " #   Column        Non-Null Count  Dtype         \n",
      "---  ------        --------------  -----         \n",
      " 0   movie_title   11364 non-null  object        \n",
      " 1   studio        11364 non-null  object        \n",
      " 2   rating_name   11364 non-null  object        \n",
      " 3   actor         11364 non-null  object        \n",
      " 4   director      11364 non-null  object        \n",
      " 5   genre         11364 non-null  object        \n",
      " 6   release_date  11364 non-null  datetime64[ns]\n",
      "dtypes: datetime64[ns](1), object(6)\n",
      "memory usage: 621.6+ KB\n"
     ]
    }
   ],
   "source": [
    "df.info()"
   ]
  },
  {
   "cell_type": "code",
   "execution_count": 12,
   "metadata": {},
   "outputs": [],
   "source": [
    "#cleaning the missing values from the columns\n",
    "missing_fill_values = {\n",
    "    'studio': 'Unknown',\n",
    "    'rating_name': 'Not Rated',\n",
    "    'actor': 'Unknown', \n",
    "    'director': 'Unknown',\n",
    "    'genre': 'Unknown',\n",
    "    }\n",
    "df = df.fillna(value=missing_fill_values)"
   ]
  },
  {
   "cell_type": "code",
   "execution_count": 13,
   "metadata": {},
   "outputs": [],
   "source": [
    "#defining the file path for the csv file\n",
    "csv_file_path = r\"\\\\Mac\\Home\\Documents\\MDDB\\Database Management\\metaClean43Brightspace.xlsx\""
   ]
  },
  {
   "cell_type": "code",
   "execution_count": 14,
   "metadata": {},
   "outputs": [],
   "source": [
    "#converting/saving the dataframe as csv file\n",
    "df.to_csv(csv_file_path, index=False)"
   ]
  },
  {
   "cell_type": "code",
   "execution_count": 15,
   "metadata": {},
   "outputs": [
    {
     "name": "stdout",
     "output_type": "stream",
     "text": [
      "                movie_title                               studio rating_name  \\\n",
      "0      Women Art Revolution                  Hotwire Productions   Not Rated   \n",
      "1       10 Cloverfield Lane                   Paramount Pictures       PG-13   \n",
      "2          10 Items or Less                           Click Star           R   \n",
      "3                  10 Years             Anchor Bay Entertainment           R   \n",
      "4          100 Bloody Acres                      Music Box Films   Not Rated   \n",
      "...                     ...                                  ...         ...   \n",
      "11359           Zoolander 2                   Paramount Pictures       PG-13   \n",
      "11360                  Zoom                    Columbia Pictures          PG   \n",
      "11361                  Zoom                   Screen Media Films   Not Rated   \n",
      "11362              Zootopia  Walt Disney Studios Motion Pictures          PG   \n",
      "11363               Zus  zo               Lifesize Entertainment   Not Rated   \n",
      "\n",
      "                                                   actor             director  \\\n",
      "0                                                Unknown  Lynn HershmanLeeson   \n",
      "1      John Gallagher JrJohn GoodmanMary Elizabeth Wi...     Dan Trachtenberg   \n",
      "2                       Jonah HillMorgan FreemanPaz Vega      Brad Silberling   \n",
      "3                   Channing TatumChris PrattJenna Dewan         Jamie Linden   \n",
      "4                                                Unknown      Cameron Cairnes   \n",
      "...                                                  ...                  ...   \n",
      "11359  Ben StillerKristen WiigOwen WilsonPenlope Cruz...          Ben Stiller   \n",
      "11360                  Chevy ChaseCourteney CoxTim Allen         Peter Hewitt   \n",
      "11361                                            Unknown        Pedro Morelli   \n",
      "11362                                            Unknown         Byron Howard   \n",
      "11363                                            Unknown   Paula van der Oest   \n",
      "\n",
      "                                                genre release_date  \n",
      "0                                         Documentary   2011-06-01  \n",
      "1         Action,Sci-Fi,Drama,Mystery,Thriller,Horror   2016-03-11  \n",
      "2                                Drama,Comedy,Romance   2006-12-01  \n",
      "3                                Drama,Comedy,Romance   2012-09-14  \n",
      "4                                       Horror,Comedy   2013-06-28  \n",
      "...                                               ...          ...  \n",
      "11359                                          Comedy   2016-02-12  \n",
      "11360                  Action,Adventure,Sci-Fi,Family   2006-08-11  \n",
      "11361                          Drama,Comedy,Animation   2016-09-02  \n",
      "11362  Action,Adventure,Comedy,Crime,Animation,Family   2016-03-04  \n",
      "11363                          Fantasy,Comedy,Romance   2003-02-07  \n",
      "\n",
      "[11364 rows x 7 columns]\n"
     ]
    }
   ],
   "source": [
    "print(df)"
   ]
  }
 ],
 "metadata": {
  "kernelspec": {
   "display_name": "base",
   "language": "python",
   "name": "python3"
  },
  "language_info": {
   "codemirror_mode": {
    "name": "ipython",
    "version": 3
   },
   "file_extension": ".py",
   "mimetype": "text/x-python",
   "name": "python",
   "nbconvert_exporter": "python",
   "pygments_lexer": "ipython3",
   "version": "3.11.4"
  },
  "orig_nbformat": 4
 },
 "nbformat": 4,
 "nbformat_minor": 2
}
