{
 "cells": [
  {
   "cell_type": "code",
   "execution_count": 2,
   "metadata": {},
   "outputs": [
    {
     "name": "stdout",
     "output_type": "stream",
     "text": [
      "Connection success.\n",
      "Empty DataFrame\n",
      "Columns: [director_name, avg_worldwide_boxoffice]\n",
      "Index: []\n",
      "Connection closed.\n"
     ]
    },
    {
     "name": "stderr",
     "output_type": "stream",
     "text": [
      "C:\\Users\\leath\\AppData\\Local\\Temp\\ipykernel_9612\\4161665366.py:20: UserWarning: pandas only supports SQLAlchemy connectable (engine/connection) or database string URI or sqlite3 DBAPI2 connection. Other DBAPI2 objects are not tested. Please consider using SQLAlchemy.\n",
      "  dfDir = pd.read_sql(\"\"\"SELECT directors.director_name, AVG(m.worldwide_boxoffice) AS AVG_worldwide_boxoffice\n"
     ]
    }
   ],
   "source": [
    "# Lea \n",
    "\n",
    "# director, directedby and movies JOIN\n",
    "\n",
    "import psycopg2\n",
    "import pandas as pd\n",
    "\n",
    "# Define a function to connect to database\n",
    "def connectDB():\n",
    "     conn = psycopg2.connect(\n",
    "        dbname = \"Movie Industry Database\",\n",
    "        user = \"postgres\",\n",
    "        password = \"Quickborn123\",\n",
    "        host = \"localhost\",\n",
    "        port = \"5432\")\n",
    "     return conn \n",
    "\n",
    "# Query to select all directors with the average box office of the movies they directed by joining the tables\n",
    "def getallDir(conn):\n",
    "    dfDir = pd.read_sql(\"\"\"SELECT directors.director_name, AVG(m.worldwide_box_office) AS AVG_worldwide_boxoffice\n",
    "                            FROM movies m\n",
    "                            JOIN directedby db ON m.movie_id = db.movie_id\n",
    "                            JOIN directors ON db.director_id = directors.director_id\n",
    "                            GROUP BY directors.director_name\n",
    "                            ORDER BY AVG_worldwide_box_office DESC\"\"\", conn)\n",
    "    return dfDir\n",
    "\n",
    "# call the function to connect to database\n",
    "conn = connectDB()\n",
    "print(\"Connection success.\")\n",
    "\n",
    "# get all directors with movies' box office\n",
    "dfDir = getallDir(conn)\n",
    "print(dfDir)\n",
    "\n",
    "# Close connection\n",
    "conn.close()\n",
    "\n",
    "print(\"Connection closed.\")\n",
    "\n",
    "\n"
   ]
  }
 ],
 "metadata": {
  "kernelspec": {
   "display_name": "base",
   "language": "python",
   "name": "python3"
  },
  "language_info": {
   "codemirror_mode": {
    "name": "ipython",
    "version": 3
   },
   "file_extension": ".py",
   "mimetype": "text/x-python",
   "name": "python",
   "nbconvert_exporter": "python",
   "pygments_lexer": "ipython3",
   "version": "3.11.4"
  },
  "orig_nbformat": 4
 },
 "nbformat": 4,
 "nbformat_minor": 2
}
