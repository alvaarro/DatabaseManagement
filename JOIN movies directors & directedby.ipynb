{
 "cells": [
  {
   "cell_type": "code",
   "execution_count": null,
   "metadata": {},
   "outputs": [],
   "source": [
    "# Define a function to connect to database\n",
    "def connectDB():\n",
    "     conn = psycopg2.connect(\n",
    "        dbname = \"Movie Industry Database\",\n",
    "        user = \"postgres\",\n",
    "        password = \"Quickborn123\",\n",
    "        host = \"localhost\",\n",
    "        port = \"5432\")\n",
    "     return conn \n",
    "\n",
    "# Query to select all directors with the average box office of the movies they directed by joining the tables\n",
    "def getallDir(conn):\n",
    "    dfDir = pd.read_sql(\"\"\"SELECT directors.director_name, AVG(m.worldwide_box_office) AS AVG_worldwide_box_office\n",
    "                            FROM movies m\n",
    "                            JOIN directedby db ON m.movie_id = db.movie_id\n",
    "                            JOIN directors ON db.director_id = directors.director_id\n",
    "                            GROUP BY directors.director_name\n",
    "                            ORDER BY AVG_worldwide_box_office DESC\"\"\", conn)\n",
    "    return dfDir\n",
    "\n",
    "# call the function to connect to database\n",
    "conn = connectDB()\n",
    "print(\"Connection success.\")\n",
    "\n",
    "# get all directors with movies' box office\n",
    "dfDir = getallDir(conn)\n",
    "print(dfDir)\n",
    "\n",
    "# Close connection\n",
    "conn.close()\n",
    "\n",
    "print(\"Connection closed.\")\n",
    "\n",
    "\n"
   ]
  }
 ],
 "metadata": {
  "language_info": {
   "name": "python"
  },
  "orig_nbformat": 4
 },
 "nbformat": 4,
 "nbformat_minor": 2
}
