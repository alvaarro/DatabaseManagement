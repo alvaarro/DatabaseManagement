{
 "cells": [
  {
   "cell_type": "code",
   "execution_count": null,
   "metadata": {},
   "outputs": [],
   "source": [
    "# Define a function to connect to DB\n",
    "def connectDB():\n",
    "     conn = psycopg2.connect(\n",
    "        dbname = \"Online Store\",\n",
    "        user = \"postgres\",\n",
    "        password = \"Quickborn123\",\n",
    "        host = \"localhost\",\n",
    "        port = \"5432\")\n",
    "     return conn \n",
    "\n",
    "# Pandas is used when selecting something\n",
    "def getAllCustPD(conn):\n",
    "    dfCus = pd.read_sql(\"\"\"SELECT directors.director_name, AVG(m.worldwide_box_office) AS AVG_worldwide_box_office\n",
    "                            FROM movies m\n",
    "                            JOIN directedby db ON m.movie_id = db.movie_id\n",
    "                            JOIN directors ON db.director_id = directors.director_id\n",
    "                            GROUP BY directors.director_name\n",
    "                            ORDER BY AVG_worldwide_box_office DESC\"\"\", conn)\n",
    "    return dfCus\n",
    "\n",
    "# call te function to connect to DB\n",
    "conn = connectDB()\n",
    "print(\"Connection success.\")\n",
    "\n",
    "# get all Customer using pandas\n",
    "dfCus = getAllCustPD(conn)\n",
    "print(dfCus)\n",
    "\n",
    "# Close connection\n",
    "conn.close()\n",
    "\n",
    "print(\"Connection closed.\")\n",
    "\n",
    "\n"
   ]
  }
 ],
 "metadata": {
  "language_info": {
   "name": "python"
  },
  "orig_nbformat": 4
 },
 "nbformat": 4,
 "nbformat_minor": 2
}
