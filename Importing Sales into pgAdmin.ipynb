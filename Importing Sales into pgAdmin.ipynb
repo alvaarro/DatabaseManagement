{
 "cells": [
  {
   "cell_type": "code",
   "execution_count": 3,
   "metadata": {},
   "outputs": [],
   "source": [
    "#install required libraries\n",
    "import psycopg2\n",
    "import csv"
   ]
  },
  {
   "cell_type": "code",
   "execution_count": 4,
   "metadata": {},
   "outputs": [],
   "source": [
    "#Database in PostgreSQL connection information\n",
    "dbname = \"DBM\"\n",
    "user = \"postgres\"\n",
    "password = \"xw5dzk6d\"\n",
    "host = \"localhost\"\n",
    "port = \"5433\""
   ]
  },
  {
   "cell_type": "code",
   "execution_count": 5,
   "metadata": {},
   "outputs": [],
   "source": [
    "#defining the file path for the csv file\n",
    "csv_file = r\"\\\\Mac\\Home\\Documents\\MDDB\\Database Management\\sales.csv\""
   ]
  },
  {
   "cell_type": "code",
   "execution_count": 6,
   "metadata": {},
   "outputs": [],
   "source": [
    "#table name in PostgreSQL where the data will be imported\n",
    "table_name = \"movies\""
   ]
  },
  {
   "cell_type": "code",
   "execution_count": 7,
   "metadata": {},
   "outputs": [],
   "source": [
    "#connecting to the PostgreSQL database & creating a cursos\n",
    "conn = psycopg2.connect(dbname=dbname, user=user, password=password, host=host, port=port)\n",
    "cursor = conn.cursor()\n"
   ]
  },
  {
   "cell_type": "code",
   "execution_count": 8,
   "metadata": {},
   "outputs": [],
   "source": [
    "#opening the CSV file and iterating over rows\n",
    "with open(csv_file, 'r', newline='', encoding='utf-8') as file:\n",
    "    reader = csv.reader(file)\n",
    " \n",
    "    for row in reader:\n",
    "        movie_id = row[0]\n",
    "        release_date = row[2]\n",
    "        movie_title = row[1]\n",
    "        worldwide_boxoffice = row[4]\n",
    "        production_budget = row[3]"
   ]
  },
  {
   "cell_type": "code",
   "execution_count": 9,
   "metadata": {},
   "outputs": [
    {
     "data": {
      "text/plain": [
       "('INSERT INTO movies (movie_id, release_date, movie_title, worldwide_boxoffice, production_budget) VALUES (%s, %s, %s, %s, %s)',\n",
       " ('30612',\n",
       "  'January',\n",
       "  'Posledniy bogatyr Koren Zla',\n",
       "  '33396899.0',\n",
       "  'Adventure'))"
      ]
     },
     "execution_count": 9,
     "metadata": {},
     "output_type": "execute_result"
    }
   ],
   "source": [
    "#inserting the data into the table in PostgreSQL\n",
    "cursor.execute\n",
    "(f\"INSERT INTO {table_name} (movie_id, release_date, movie_title, worldwide_boxoffice, production_budget) VALUES (%s, %s, %s, %s, %s)\",\n",
    "(movie_id, movie_title, release_date, worldwide_boxoffice, production_budget))"
   ]
  },
  {
   "cell_type": "code",
   "execution_count": 10,
   "metadata": {},
   "outputs": [],
   "source": [
    "#committing the transaction\n",
    "conn.commit()\n",
    "\n",
    "#closing the connection\n",
    "if conn:\n",
    "        cursor.close()\n",
    "        conn.close()"
   ]
  }
 ],
 "metadata": {
  "kernelspec": {
   "display_name": "base",
   "language": "python",
   "name": "python3"
  },
  "language_info": {
   "codemirror_mode": {
    "name": "ipython",
    "version": 3
   },
   "file_extension": ".py",
   "mimetype": "text/x-python",
   "name": "python",
   "nbconvert_exporter": "python",
   "pygments_lexer": "ipython3",
   "version": "3.11.4"
  },
  "orig_nbformat": 4
 },
 "nbformat": 4,
 "nbformat_minor": 2
}
