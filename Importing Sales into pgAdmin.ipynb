{
 "cells": [
  {
   "cell_type": "code",
   "execution_count": 49,
   "metadata": {},
   "outputs": [],
   "source": [
    "#install required libraries\n",
    "import psycopg2\n",
    "import csv"
   ]
  },
  {
   "cell_type": "code",
   "execution_count": 50,
   "metadata": {},
   "outputs": [],
   "source": [
    "#Database in PostgreSQL connection information\n",
    "dbname = \"DBM\"\n",
    "user = \"postgres\"\n",
    "password = \"xw5dzk6d\"\n",
    "host = \"localhost\"\n",
    "port = \"5433\""
   ]
  },
  {
   "cell_type": "code",
   "execution_count": 51,
   "metadata": {},
   "outputs": [],
   "source": [
    "#defining the file path for the csv file\n",
    "csv_file = r\"\\\\Mac\\Home\\Documents\\MDDB\\Database Management\\sales.csv\""
   ]
  },
  {
   "cell_type": "code",
   "execution_count": 52,
   "metadata": {},
   "outputs": [],
   "source": [
    "#table name in PostgreSQL where the data will be imported\n",
    "table_name = \"movies\""
   ]
  },
  {
   "cell_type": "code",
   "execution_count": 53,
   "metadata": {},
   "outputs": [],
   "source": [
    "#connecting to the PostgreSQL database & creating a cursos\n",
    "conn = psycopg2.connect(dbname=dbname, user=user, password=password, host=host, port=port)\n",
    "cursor = conn.cursor()\n"
   ]
  },
  {
   "cell_type": "code",
   "execution_count": 57,
   "metadata": {},
   "outputs": [],
   "source": [
    "#opening the CSV file and iterating over rows\n",
    "with open(csv_file, 'r', newline='', encoding='utf-8') as file:\n",
    "    reader = csv.reader(file)\n",
    " \n",
    "    for row in reader:\n",
    "        movie_id = row[0]\n",
    "        release_date = row[2]\n",
    "        movie_title = row[1]\n",
    "        worldwide_boxoffice = row[4]\n",
    "        production_budget = row[3]"
   ]
  },
  {
   "cell_type": "code",
   "execution_count": 60,
   "metadata": {},
   "outputs": [
    {
     "data": {
      "text/plain": [
       "('INSERT INTO movies (movie_id, release_date, movie_title, worldwide_boxoffice, production_budget) VALUES (%s, %s, %s, %s, %s)',\n",
       " ('30612',\n",
       "  'January',\n",
       "  'Posledniy bogatyr Koren Zla',\n",
       "  '33396899.0',\n",
       "  'Adventure'))"
      ]
     },
     "execution_count": 60,
     "metadata": {},
     "output_type": "execute_result"
    }
   ],
   "source": [
    "#inserting the data into the table in PostgreSQL\n",
    "cursor.execute\n",
    "(f\"INSERT INTO {table_name} (movie_id, release_date, movie_title, worldwide_boxoffice, production_budget) VALUES (%s, %s, %s, %s, %s)\",\n",
    "(movie_id, movie_title, release_date, worldwide_boxoffice, production_budget))"
   ]
  },
  {
   "cell_type": "code",
   "execution_count": 96,
   "metadata": {},
   "outputs": [
    {
     "ename": "InterfaceError",
     "evalue": "connection already closed",
     "output_type": "error",
     "traceback": [
      "\u001b[1;31m---------------------------------------------------------------------------\u001b[0m",
      "\u001b[1;31mInterfaceError\u001b[0m                            Traceback (most recent call last)",
      "\u001b[1;32mUntitled-2.ipynb Cell 8\u001b[0m line \u001b[0;36m2\n\u001b[0;32m      <a href='vscode-notebook-cell:Untitled-2.ipynb?jupyter-notebook#X11sdW50aXRsZWQ%3D?line=0'>1</a>\u001b[0m \u001b[39m# Commit the transaction\u001b[39;00m\n\u001b[1;32m----> <a href='vscode-notebook-cell:Untitled-2.ipynb?jupyter-notebook#X11sdW50aXRsZWQ%3D?line=1'>2</a>\u001b[0m conn\u001b[39m.\u001b[39mcommit()\n\u001b[0;32m      <a href='vscode-notebook-cell:Untitled-2.ipynb?jupyter-notebook#X11sdW50aXRsZWQ%3D?line=3'>4</a>\u001b[0m \u001b[39m# Close the connection\u001b[39;00m\n\u001b[0;32m      <a href='vscode-notebook-cell:Untitled-2.ipynb?jupyter-notebook#X11sdW50aXRsZWQ%3D?line=4'>5</a>\u001b[0m \u001b[39mif\u001b[39;00m conn:\n",
      "\u001b[1;31mInterfaceError\u001b[0m: connection already closed"
     ]
    }
   ],
   "source": [
    "#committing the transaction\n",
    "conn.commit()\n",
    "\n",
    "#closing the connection\n",
    "if conn:\n",
    "        cursor.close()\n",
    "        conn.close()"
   ]
  }
 ],
 "metadata": {
  "kernelspec": {
   "display_name": "base",
   "language": "python",
   "name": "python3"
  },
  "language_info": {
   "codemirror_mode": {
    "name": "ipython",
    "version": 3
   },
   "file_extension": ".py",
   "mimetype": "text/x-python",
   "name": "python",
   "nbconvert_exporter": "python",
   "pygments_lexer": "ipython3",
   "version": "3.11.4"
  },
  "orig_nbformat": 4
 },
 "nbformat": 4,
 "nbformat_minor": 2
}
