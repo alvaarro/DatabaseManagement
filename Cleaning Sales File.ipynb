{
 "cells": [
  {
   "cell_type": "code",
   "execution_count": 1,
   "metadata": {},
   "outputs": [
    {
     "name": "stdout",
     "output_type": "stream",
     "text": [
      "Requirement already satisfied: pandas in c:\\users\\leath\\anaconda3\\python\\lib\\site-packages (1.5.3)Note: you may need to restart the kernel to use updated packages.\n",
      "\n",
      "Requirement already satisfied: python-dateutil>=2.8.1 in c:\\users\\leath\\appdata\\roaming\\python\\python311\\site-packages (from pandas) (2.8.2)\n",
      "Requirement already satisfied: pytz>=2020.1 in c:\\users\\leath\\anaconda3\\python\\lib\\site-packages (from pandas) (2022.7)\n",
      "Requirement already satisfied: numpy>=1.21.0 in c:\\users\\leath\\anaconda3\\python\\lib\\site-packages (from pandas) (1.24.3)\n",
      "Requirement already satisfied: six>=1.5 in c:\\users\\leath\\appdata\\roaming\\python\\python311\\site-packages (from python-dateutil>=2.8.1->pandas) (1.16.0)\n"
     ]
    }
   ],
   "source": [
    "pip install pandas"
   ]
  },
  {
   "cell_type": "code",
   "execution_count": 5,
   "metadata": {},
   "outputs": [
    {
     "name": "stdout",
     "output_type": "stream",
     "text": [
      "CSV file 'c:\\Users\\leath\\Documents\\AUAS\\3. Digital Business Fundamentals\\Sales Cleaned.csv' has been created.\n"
     ]
    }
   ],
   "source": [
    "import pandas as pd\n",
    "\n",
    "# Loading the Excel file into a pandas DataFrame\n",
    "excel_file = r\"c:\\Users\\leath\\Downloads\\sales.xlsx\"\n",
    "df = pd.read_excel(excel_file)\n",
    "\n",
    "# Selecting only the desired columns\n",
    "selected_columns = ['release_date', 'title', 'worldwide_box_office', 'production_budget']  \n",
    "df = df[selected_columns]\n",
    "\n",
    "# Renaming columns\n",
    "column_mapping = {\n",
    "    'title': 'movie_title',\n",
    "    'worldwide_box_office': 'worldwide_boxoffice',\n",
    "}\n",
    "df = df.rename(columns=column_mapping)\n",
    "\n",
    "# Extracting the month from the 'release_date' column\n",
    "df['release_date'] = df['release_date'].str.extract(r'(\\w+)', expand=False)\n",
    "\n",
    "# Adding a new 'movie_id' column\n",
    "df.insert(0, 'movie_id', range(1, len(df) + 1))\n",
    "\n",
    "# Removing duplicates\n",
    "df = df.drop_duplicates()\n",
    "\n",
    "# Specifying data types for columns\n",
    "data_types = {\n",
    "    'movie_id': int,\n",
    "    'release_date': str,\n",
    "    'movie_title': str,\n",
    "    'worldwide_boxoffice': float,  \n",
    "    'production_budget': float,    \n",
    "}\n",
    "df = df.astype(data_types)\n",
    "\n",
    "# Filling missing values\n",
    "missing_fill_values = {\n",
    "    'release_date': 'no date',\n",
    "    'movie_title': 'unknown title',\n",
    "    'worldwide_boxoffice': 0.0,\n",
    "    'production_budget': 0.0,  \n",
    "}\n",
    "df = df.fillna(value=missing_fill_values)\n",
    "\n",
    "# Removing special characters from the 'movie_title' column and replace them  by latin characters\n",
    "df['movie_title'] = df['movie_title'].str.replace('[^a-zA-Z0-9\\s]', '', regex=True)\n",
    "\n",
    "# Saving the DataFrame as a CSV file\n",
    "csv_file = r\"c:\\Users\\leath\\Documents\\AUAS\\3. Digital Business Fundamentals\\Sales Cleaned.csv\"\n",
    "df.to_csv(csv_file, index=False)\n",
    "\n",
    "print(f\"CSV file '{csv_file}' has been created.\")"
   ]
  }
 ],
 "metadata": {
  "kernelspec": {
   "display_name": "base",
   "language": "python",
   "name": "python3"
  },
  "language_info": {
   "codemirror_mode": {
    "name": "ipython",
    "version": 3
   },
   "file_extension": ".py",
   "mimetype": "text/x-python",
   "name": "python",
   "nbconvert_exporter": "python",
   "pygments_lexer": "ipython3",
   "version": "3.11.4"
  },
  "orig_nbformat": 4
 },
 "nbformat": 4,
 "nbformat_minor": 2
}
