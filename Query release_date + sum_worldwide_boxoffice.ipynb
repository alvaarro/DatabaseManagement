{
 "cells": [
  {
   "cell_type": "code",
   "execution_count": null,
   "metadata": {},
   "outputs": [],
   "source": [
    "# Define a function to connect to database\n",
    "def connectDB():\n",
    "     conn = psycopg2.connect(\n",
    "        dbname = \"Online Store\",\n",
    "        user = \"postgres\",\n",
    "        password = \"Quickborn123\",\n",
    "        host = \"localhost\",\n",
    "        port = \"5432\")\n",
    "     return conn \n",
    "\n",
    "# Query to select the total box office per release date (month) \n",
    "def getsuccrel(conn):\n",
    "    dfRel = pd.read_sql(\"\"\"SELECT rel_date, SUM(worldwide_box_office) AS SUM_worldwide_box_office\n",
    "                            FROM movies\n",
    "                            GROUP BY rel_date\n",
    "                            ORDER BY SUM_worldwide_box_office DESC LIMIT(12)\"\"\", conn)\n",
    "    return dfRel\n",
    "\n",
    "# call the function to connect to database\n",
    "conn = connectDB()\n",
    "print(\"Connection success.\")\n",
    "\n",
    "# get back query result\n",
    "dfRel = getsuccrel(conn)\n",
    "print(dfRel)\n",
    "\n",
    "# Close connection\n",
    "conn.close()\n",
    "\n",
    "print(\"Connection closed.\")\n",
    "\n",
    "# Create a bar graph\n",
    "plt.figure(figsize=(10, 6))\n",
    "plt.bar(dfRel['rel_date'], dfRel['SUM_worldwide_box_office'])\n",
    "plt.xlabel('Release Date')\n",
    "plt.ylabel('Total Box Office')\n",
    "plt.title('Top 12 Release Dates by Total Box Office')\n",
    "plt.xticks(rotation=45)  # Rotate x-axis labels for better readability\n",
    "plt.tight_layout()\n",
    "\n",
    "# Show the graph\n",
    "plt.show()\n"
   ]
  }
 ],
 "metadata": {
  "language_info": {
   "name": "python"
  },
  "orig_nbformat": 4
 },
 "nbformat": 4,
 "nbformat_minor": 2
}
