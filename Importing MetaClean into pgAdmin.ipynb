{
 "cells": [
  {
   "cell_type": "code",
   "execution_count": 28,
   "metadata": {},
   "outputs": [],
   "source": [
    "#install required libraries\n",
    "import pandas as pd\n",
    "import psycopg2\n",
    "import csv"
   ]
  },
  {
   "cell_type": "code",
   "execution_count": 29,
   "metadata": {},
   "outputs": [],
   "source": [
    "#Database in PostgreSQL connection information\n",
    "db_params = {\n",
    "    'dbname': 'DBM',\n",
    "    'user': 'postgres',\n",
    "    'password': 'xw5dzk6d',\n",
    "    'host': 'localhost',\n",
    "    'port': '5433'\n",
    "}"
   ]
  },
  {
   "cell_type": "code",
   "execution_count": 52,
   "metadata": {},
   "outputs": [],
   "source": [
    "#defining the file path for the csv file\n",
    "csv_file = \"\\\\Mac\\Home\\Documents\\MDDB\\Database Management\\sales.csv\""
   ]
  },
  {
   "cell_type": "code",
   "execution_count": 31,
   "metadata": {},
   "outputs": [],
   "source": [
    "#table name in PostgreSQL where the data will be imported\n",
    "table_name = 'movies'"
   ]
  },
  {
   "cell_type": "code",
   "execution_count": 32,
   "metadata": {},
   "outputs": [],
   "source": [
    "#establishing a database connection\n",
    "conn = psycopg2.connect(**db_params)\n",
    "#creating a cursor object\n",
    "cursor = conn.cursor()"
   ]
  },
  {
   "cell_type": "code",
   "execution_count": null,
   "metadata": {},
   "outputs": [],
   "source": [
    "#opening and reading the csv file\n",
    "with open(csv_file, 'r', encoding='utf-8') as file:\n",
    "        reader = csv.reader(file)\n",
    "        next(reader)  # Skip the header row if it exists\n",
    "\n",
    "        for row in reader:\n",
    "            #creating an SQL statement for inserting data into the table\n",
    "            insert_query = sql.SQL('INSERT INTO {} VALUES ({})').format(\n",
    "                sql.Identifier(table_name),\n",
    "                sql.SQL(',').join(map(sql.Placeholder, row))\n",
    "            )\n",
    "\n",
    "            #excecuting the SQL statement\n",
    "            cursor.execute(insert_query, row)\n",
    "\n",
    "            # Commit the changes\n",
    "    conn.commit()\n",
    "\n",
    "    print(\"Data imported successfully!\")\n",
    "\n",
    "except Exception as e:\n",
    "    print(\"Error:\", e)\n",
    "\n",
    "#commiting the changes\n",
    "conn.commit()"
   ]
  },
  {
   "cell_type": "code",
   "execution_count": 65,
   "metadata": {},
   "outputs": [],
   "source": [
    "#closing the cursor and connection\n",
    "cursor.close()\n",
    "conn.close()"
   ]
  }
 ],
 "metadata": {
  "kernelspec": {
   "display_name": "base",
   "language": "python",
   "name": "python3"
  },
  "language_info": {
   "codemirror_mode": {
    "name": "ipython",
    "version": 3
   },
   "file_extension": ".py",
   "mimetype": "text/x-python",
   "name": "python",
   "nbconvert_exporter": "python",
   "pygments_lexer": "ipython3",
   "version": "3.11.4"
  },
  "orig_nbformat": 4
 },
 "nbformat": 4,
 "nbformat_minor": 2
}
