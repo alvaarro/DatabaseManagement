{
 "cells": [
  {
   "cell_type": "code",
   "execution_count": 1,
   "metadata": {},
   "outputs": [],
   "source": [
    "#install required libraries\n",
    "import psycopg2\n",
    "from sqlalchemy import create_engine\n",
    "import pandas as pd\n",
    "import matplotlib.pyplot as plt"
   ]
  },
  {
   "cell_type": "code",
   "execution_count": 2,
   "metadata": {},
   "outputs": [],
   "source": [
    "#defining the PostgreSQL database connection parameters\n",
    "db_config = {\n",
    "    'dbname': 'DBM',\n",
    "    'user': 'postgres',\n",
    "    'password': 'xw5dzk6d',\n",
    "    'host': 'localhost',\n",
    "    'port': '5433'}"
   ]
  },
  {
   "cell_type": "code",
   "execution_count": 3,
   "metadata": {},
   "outputs": [],
   "source": [
    "#establishing a connection using psycopg2\n",
    "conn = psycopg2.connect(**db_config)"
   ]
  },
  {
   "cell_type": "code",
   "execution_count": 4,
   "metadata": {},
   "outputs": [],
   "source": [
    "#creating an SQLAlchemy engine using the connection\n",
    "engine = create_engine(f\"postgresql+psycopg2://{db_config['user']}:{db_config['password']}@{db_config['host']}:{db_config['port']}/{db_config['dbname']}\")"
   ]
  },
  {
   "cell_type": "code",
   "execution_count": 5,
   "metadata": {},
   "outputs": [],
   "source": [
    "#formulating the SQL query of the joined table\n",
    "sql_query = \"\"\"\n",
    "    SELECT ratings.rating_name, AVG(movies.worldwide_box_office) AS average_worldwide_box_office\n",
    "    FROM ratings\n",
    "    JOIN movierating on movierating.rating_id = ratings.rating_id\n",
    "    JOIN movies on movies.movie_id = movierating.movie_id\n",
    "    GROUP BY ratings.rating_name\n",
    "    ORDER BY average_worldwide_box_office DESC;\"\"\"\n"
   ]
  },
  {
   "cell_type": "code",
   "execution_count": null,
   "metadata": {},
   "outputs": [],
   "source": [
    "#executing the SQL query and fetching the results\n",
    "result = pd.read_sql_query(sql_query, conn)"
   ]
  },
  {
   "cell_type": "code",
   "execution_count": null,
   "metadata": {},
   "outputs": [],
   "source": [
    "plt.figure(figsize=(10, 6))\n",
    "plt.bar(result['rating_name'], result['count'])\n",
    "plt.xlabel('Rating Name')\n",
    "plt.ylabel('Average Box Office')\n",
    "plt.title('Average Worldwide Box Office per rating')\n",
    "plt.xticks(rotation=45)  #rotating x-axis labels for better readability\n",
    "plt.tight_layout()"
   ]
  },
  {
   "cell_type": "code",
   "execution_count": null,
   "metadata": {},
   "outputs": [],
   "source": [
    "#show the plot \n",
    "plt.show()"
   ]
  },
  {
   "cell_type": "code",
   "execution_count": 7,
   "metadata": {},
   "outputs": [],
   "source": [
    "#closing the database connection\n",
    "conn.close()"
   ]
  }
 ],
 "metadata": {
  "kernelspec": {
   "display_name": "base",
   "language": "python",
   "name": "python3"
  },
  "language_info": {
   "codemirror_mode": {
    "name": "ipython",
    "version": 3
   },
   "file_extension": ".py",
   "mimetype": "text/x-python",
   "name": "python",
   "nbconvert_exporter": "python",
   "pygments_lexer": "ipython3",
   "version": "3.11.4"
  },
  "orig_nbformat": 4
 },
 "nbformat": 4,
 "nbformat_minor": 2
}
